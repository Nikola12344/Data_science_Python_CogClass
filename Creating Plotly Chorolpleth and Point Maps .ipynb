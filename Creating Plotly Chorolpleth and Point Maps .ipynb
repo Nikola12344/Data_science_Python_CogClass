{
 "cells": [
  {
   "cell_type": "markdown",
   "metadata": {},
   "source": [
    "## Two Main Types of Plotly Mapping Objects\n",
    "\n",
    "<ul>\n",
    "    <li> <h3> Data Object </h3>- a list object that contains a dictionary specifying each of the parameters for the map's data object </li>\n",
    "    \n",
    "<li> <h3> Layout Object </h3> - a nested dictionary object that specifies each of the parameters for the map's layout </li>\n",
    "\n",
    "</ul>"
   ]
  },
  {
   "cell_type": "markdown",
   "metadata": {},
   "source": [
    "## Choropleth Maps"
   ]
  },
  {
   "cell_type": "markdown",
   "metadata": {},
   "source": [
    "Maps where color represents data quantity.\n",
    "\n",
    "Requirements: code parameters to select geographical areas by name, (like 'US States') "
   ]
  },
  {
   "cell_type": "markdown",
   "metadata": {},
   "source": [
    "## Point Maps "
   ]
  },
  {
   "cell_type": "markdown",
   "metadata": {},
   "source": [
    "Geographical maps with dots placed at specific spatial locations that represent data points. Dot size, color and shape can be varied.\n",
    "\n",
    "Requirements: you need to provide precise x-, y-position data for each observation\n",
    "\n",
    "Data parameter: type='scattergeo'"
   ]
  },
  {
   "cell_type": "code",
   "execution_count": 1,
   "metadata": {},
   "outputs": [],
   "source": [
    "import numpy as np\n",
    "import pandas as pd \n",
    "\n",
    "import plotly.plotly as py\n",
    "import plotly.tools as tls"
   ]
  },
  {
   "cell_type": "code",
   "execution_count": 2,
   "metadata": {},
   "outputs": [],
   "source": [
    "tls.set_credentials_file(username='Nikola1zg', api_key='1bIuwQbgBhP0Cyo37Ozp')"
   ]
  },
  {
   "cell_type": "markdown",
   "metadata": {},
   "source": [
    "## Generating Chorolpleth maps"
   ]
  },
  {
   "cell_type": "code",
   "execution_count": 3,
   "metadata": {},
   "outputs": [
    {
     "data": {
      "text/html": [
       "<div>\n",
       "<style scoped>\n",
       "    .dataframe tbody tr th:only-of-type {\n",
       "        vertical-align: middle;\n",
       "    }\n",
       "\n",
       "    .dataframe tbody tr th {\n",
       "        vertical-align: top;\n",
       "    }\n",
       "\n",
       "    .dataframe thead th {\n",
       "        text-align: right;\n",
       "    }\n",
       "</style>\n",
       "<table border=\"1\" class=\"dataframe\">\n",
       "  <thead>\n",
       "    <tr style=\"text-align: right;\">\n",
       "      <th></th>\n",
       "      <th>code</th>\n",
       "      <th>region</th>\n",
       "      <th>pop</th>\n",
       "      <th>satv</th>\n",
       "      <th>satm</th>\n",
       "      <th>percent</th>\n",
       "      <th>dollars</th>\n",
       "      <th>pay</th>\n",
       "    </tr>\n",
       "  </thead>\n",
       "  <tbody>\n",
       "    <tr>\n",
       "      <th>0</th>\n",
       "      <td>AL</td>\n",
       "      <td>ESC</td>\n",
       "      <td>4041</td>\n",
       "      <td>470</td>\n",
       "      <td>514</td>\n",
       "      <td>8</td>\n",
       "      <td>3.648</td>\n",
       "      <td>27</td>\n",
       "    </tr>\n",
       "    <tr>\n",
       "      <th>1</th>\n",
       "      <td>AK</td>\n",
       "      <td>PAC</td>\n",
       "      <td>550</td>\n",
       "      <td>438</td>\n",
       "      <td>476</td>\n",
       "      <td>42</td>\n",
       "      <td>7.887</td>\n",
       "      <td>43</td>\n",
       "    </tr>\n",
       "    <tr>\n",
       "      <th>2</th>\n",
       "      <td>AZ</td>\n",
       "      <td>MTN</td>\n",
       "      <td>3665</td>\n",
       "      <td>445</td>\n",
       "      <td>497</td>\n",
       "      <td>25</td>\n",
       "      <td>4.231</td>\n",
       "      <td>30</td>\n",
       "    </tr>\n",
       "    <tr>\n",
       "      <th>3</th>\n",
       "      <td>AR</td>\n",
       "      <td>WSC</td>\n",
       "      <td>2351</td>\n",
       "      <td>470</td>\n",
       "      <td>511</td>\n",
       "      <td>6</td>\n",
       "      <td>3.334</td>\n",
       "      <td>23</td>\n",
       "    </tr>\n",
       "    <tr>\n",
       "      <th>4</th>\n",
       "      <td>CA</td>\n",
       "      <td>PAC</td>\n",
       "      <td>29760</td>\n",
       "      <td>419</td>\n",
       "      <td>484</td>\n",
       "      <td>45</td>\n",
       "      <td>4.826</td>\n",
       "      <td>39</td>\n",
       "    </tr>\n",
       "  </tbody>\n",
       "</table>\n",
       "</div>"
      ],
      "text/plain": [
       "  code region    pop  satv  satm  percent  dollars  pay\n",
       "0   AL    ESC   4041   470   514        8    3.648   27\n",
       "1   AK    PAC    550   438   476       42    7.887   43\n",
       "2   AZ    MTN   3665   445   497       25    4.231   30\n",
       "3   AR    WSC   2351   470   511        6    3.334   23\n",
       "4   CA    PAC  29760   419   484       45    4.826   39"
      ]
     },
     "execution_count": 3,
     "metadata": {},
     "output_type": "execute_result"
    }
   ],
   "source": [
    "address = 'C:/Users/Nikola/Documents/Data Science/LinkedIn/Ex_Files_Python_Data_Science_EssT/Exercise Files/Ch09/09_03/States.csv'\n",
    "states = pd.read_csv(address)\n",
    "states.columns = ['code', 'region', 'pop', 'satv', 'satm', 'percent', 'dollars', 'pay']\n",
    "states.head()"
   ]
  },
  {
   "cell_type": "code",
   "execution_count": 4,
   "metadata": {},
   "outputs": [
    {
     "data": {
      "text/html": [
       "<div>\n",
       "<style scoped>\n",
       "    .dataframe tbody tr th:only-of-type {\n",
       "        vertical-align: middle;\n",
       "    }\n",
       "\n",
       "    .dataframe tbody tr th {\n",
       "        vertical-align: top;\n",
       "    }\n",
       "\n",
       "    .dataframe thead th {\n",
       "        text-align: right;\n",
       "    }\n",
       "</style>\n",
       "<table border=\"1\" class=\"dataframe\">\n",
       "  <thead>\n",
       "    <tr style=\"text-align: right;\">\n",
       "      <th></th>\n",
       "      <th>pop</th>\n",
       "      <th>satv</th>\n",
       "      <th>satm</th>\n",
       "      <th>percent</th>\n",
       "      <th>dollars</th>\n",
       "      <th>pay</th>\n",
       "    </tr>\n",
       "  </thead>\n",
       "  <tbody>\n",
       "    <tr>\n",
       "      <th>count</th>\n",
       "      <td>51.000000</td>\n",
       "      <td>51.000000</td>\n",
       "      <td>51.000000</td>\n",
       "      <td>51.000000</td>\n",
       "      <td>51.000000</td>\n",
       "      <td>51.000000</td>\n",
       "    </tr>\n",
       "    <tr>\n",
       "      <th>mean</th>\n",
       "      <td>4876.647059</td>\n",
       "      <td>448.156863</td>\n",
       "      <td>497.392157</td>\n",
       "      <td>33.745098</td>\n",
       "      <td>5.175490</td>\n",
       "      <td>30.941176</td>\n",
       "    </tr>\n",
       "    <tr>\n",
       "      <th>std</th>\n",
       "      <td>5439.202691</td>\n",
       "      <td>30.821014</td>\n",
       "      <td>34.568817</td>\n",
       "      <td>24.073922</td>\n",
       "      <td>1.376166</td>\n",
       "      <td>5.308151</td>\n",
       "    </tr>\n",
       "    <tr>\n",
       "      <th>min</th>\n",
       "      <td>454.000000</td>\n",
       "      <td>397.000000</td>\n",
       "      <td>437.000000</td>\n",
       "      <td>4.000000</td>\n",
       "      <td>2.993000</td>\n",
       "      <td>22.000000</td>\n",
       "    </tr>\n",
       "    <tr>\n",
       "      <th>25%</th>\n",
       "      <td>1215.000000</td>\n",
       "      <td>422.500000</td>\n",
       "      <td>470.000000</td>\n",
       "      <td>11.500000</td>\n",
       "      <td>4.354000</td>\n",
       "      <td>27.500000</td>\n",
       "    </tr>\n",
       "    <tr>\n",
       "      <th>50%</th>\n",
       "      <td>3294.000000</td>\n",
       "      <td>443.000000</td>\n",
       "      <td>490.000000</td>\n",
       "      <td>25.000000</td>\n",
       "      <td>5.045000</td>\n",
       "      <td>30.000000</td>\n",
       "    </tr>\n",
       "    <tr>\n",
       "      <th>75%</th>\n",
       "      <td>5780.000000</td>\n",
       "      <td>474.500000</td>\n",
       "      <td>522.500000</td>\n",
       "      <td>57.500000</td>\n",
       "      <td>5.689500</td>\n",
       "      <td>33.500000</td>\n",
       "    </tr>\n",
       "    <tr>\n",
       "      <th>max</th>\n",
       "      <td>29760.000000</td>\n",
       "      <td>511.000000</td>\n",
       "      <td>577.000000</td>\n",
       "      <td>74.000000</td>\n",
       "      <td>9.159000</td>\n",
       "      <td>43.000000</td>\n",
       "    </tr>\n",
       "  </tbody>\n",
       "</table>\n",
       "</div>"
      ],
      "text/plain": [
       "                pop        satv        satm    percent    dollars        pay\n",
       "count     51.000000   51.000000   51.000000  51.000000  51.000000  51.000000\n",
       "mean    4876.647059  448.156863  497.392157  33.745098   5.175490  30.941176\n",
       "std     5439.202691   30.821014   34.568817  24.073922   1.376166   5.308151\n",
       "min      454.000000  397.000000  437.000000   4.000000   2.993000  22.000000\n",
       "25%     1215.000000  422.500000  470.000000  11.500000   4.354000  27.500000\n",
       "50%     3294.000000  443.000000  490.000000  25.000000   5.045000  30.000000\n",
       "75%     5780.000000  474.500000  522.500000  57.500000   5.689500  33.500000\n",
       "max    29760.000000  511.000000  577.000000  74.000000   9.159000  43.000000"
      ]
     },
     "execution_count": 4,
     "metadata": {},
     "output_type": "execute_result"
    }
   ],
   "source": [
    "states.describe()"
   ]
  },
  {
   "cell_type": "code",
   "execution_count": 5,
   "metadata": {},
   "outputs": [
    {
     "data": {
      "text/plain": [
       "0     StateAL\n",
       "1     StateAK\n",
       "2     StateAZ\n",
       "3     StateAR\n",
       "4     StateCA\n",
       "5     StateCO\n",
       "6     StateCN\n",
       "7     StateDE\n",
       "8     StateDC\n",
       "9     StateFL\n",
       "10    StateGA\n",
       "11    StateHI\n",
       "12    StateID\n",
       "13    StateIL\n",
       "14    StateIN\n",
       "15    StateIA\n",
       "16    StateKS\n",
       "17    StateKY\n",
       "18    StateLA\n",
       "19    StateME\n",
       "20    StateMD\n",
       "21    StateMA\n",
       "22    StateMI\n",
       "23    StateMN\n",
       "24    StateMS\n",
       "25    StateMO\n",
       "26    StateMT\n",
       "27    StateNE\n",
       "28    StateNV\n",
       "29    StateNH\n",
       "30    StateNJ\n",
       "31    StateNM\n",
       "32    StateNY\n",
       "33    StateNC\n",
       "34    StateND\n",
       "35    StateOH\n",
       "36    StateOK\n",
       "37    StateOR\n",
       "38    StatePA\n",
       "39    StateRI\n",
       "40    StateSC\n",
       "41    StateSD\n",
       "42    StateTN\n",
       "43    StateTX\n",
       "44    StateUT\n",
       "45    StateVT\n",
       "46    StateVA\n",
       "47    StateWA\n",
       "48    StateWV\n",
       "49    StateWI\n",
       "50    StateWY\n",
       "Name: code, dtype: object"
      ]
     },
     "execution_count": 5,
     "metadata": {},
     "output_type": "execute_result"
    }
   ],
   "source": [
    "states['text'] = 'SATv' +states['satv'].astype(str) + 'SATm' +states['satm'].astype(str) +'<br>' \n",
    "'State' + states['code']\n"
   ]
  },
  {
   "cell_type": "code",
   "execution_count": 6,
   "metadata": {},
   "outputs": [
    {
     "data": {
      "text/plain": [
       "[{'type': 'choropleth', 'autocolorscale': False, 'locations': 0     AL\n",
       "  1     AK\n",
       "  2     AZ\n",
       "  3     AR\n",
       "  4     CA\n",
       "  5     CO\n",
       "  6     CN\n",
       "  7     DE\n",
       "  8     DC\n",
       "  9     FL\n",
       "  10    GA\n",
       "  11    HI\n",
       "  12    ID\n",
       "  13    IL\n",
       "  14    IN\n",
       "  15    IA\n",
       "  16    KS\n",
       "  17    KY\n",
       "  18    LA\n",
       "  19    ME\n",
       "  20    MD\n",
       "  21    MA\n",
       "  22    MI\n",
       "  23    MN\n",
       "  24    MS\n",
       "  25    MO\n",
       "  26    MT\n",
       "  27    NE\n",
       "  28    NV\n",
       "  29    NH\n",
       "  30    NJ\n",
       "  31    NM\n",
       "  32    NY\n",
       "  33    NC\n",
       "  34    ND\n",
       "  35    OH\n",
       "  36    OK\n",
       "  37    OR\n",
       "  38    PA\n",
       "  39    RI\n",
       "  40    SC\n",
       "  41    SD\n",
       "  42    TN\n",
       "  43    TX\n",
       "  44    UT\n",
       "  45    VT\n",
       "  46    VA\n",
       "  47    WA\n",
       "  48    WV\n",
       "  49    WI\n",
       "  50    WY\n",
       "  Name: code, dtype: object, 'z': 0     3.648\n",
       "  1     7.887\n",
       "  2     4.231\n",
       "  3     3.334\n",
       "  4     4.826\n",
       "  5     4.809\n",
       "  6     7.914\n",
       "  7     6.016\n",
       "  8     8.210\n",
       "  9     5.154\n",
       "  10    4.860\n",
       "  11    5.008\n",
       "  12    3.200\n",
       "  13    5.062\n",
       "  14    5.051\n",
       "  15    4.839\n",
       "  16    5.009\n",
       "  17    4.390\n",
       "  18    4.012\n",
       "  19    5.894\n",
       "  20    6.184\n",
       "  21    6.351\n",
       "  22    5.257\n",
       "  23    5.260\n",
       "  24    3.322\n",
       "  25    4.415\n",
       "  26    5.184\n",
       "  27    4.381\n",
       "  28    4.564\n",
       "  29    5.504\n",
       "  30    9.159\n",
       "  31    4.446\n",
       "  32    8.500\n",
       "  33    4.802\n",
       "  34    3.685\n",
       "  35    5.639\n",
       "  36    3.742\n",
       "  37    5.291\n",
       "  38    6.534\n",
       "  39    6.989\n",
       "  40    4.327\n",
       "  41    3.730\n",
       "  42    3.707\n",
       "  43    4.238\n",
       "  44    2.993\n",
       "  45    5.740\n",
       "  46    5.360\n",
       "  47    5.045\n",
       "  48    5.046\n",
       "  49    5.946\n",
       "  50    5.255\n",
       "  Name: dollars, dtype: float64, 'locationmode': 'USA-states', 'text': 0     SATv470SATm514<br>\n",
       "  1     SATv438SATm476<br>\n",
       "  2     SATv445SATm497<br>\n",
       "  3     SATv470SATm511<br>\n",
       "  4     SATv419SATm484<br>\n",
       "  5     SATv456SATm513<br>\n",
       "  6     SATv430SATm471<br>\n",
       "  7     SATv433SATm470<br>\n",
       "  8     SATv409SATm441<br>\n",
       "  9     SATv418SATm466<br>\n",
       "  10    SATv401SATm443<br>\n",
       "  11    SATv404SATm481<br>\n",
       "  12    SATv466SATm502<br>\n",
       "  13    SATv466SATm528<br>\n",
       "  14    SATv408SATm459<br>\n",
       "  15    SATv511SATm577<br>\n",
       "  16    SATv492SATm548<br>\n",
       "  17    SATv473SATm521<br>\n",
       "  18    SATv476SATm517<br>\n",
       "  19    SATv423SATm463<br>\n",
       "  20    SATv430SATm478<br>\n",
       "  21    SATv427SATm473<br>\n",
       "  22    SATv454SATm514<br>\n",
       "  23    SATv477SATm542<br>\n",
       "  24    SATv477SATm519<br>\n",
       "  25    SATv473SATm522<br>\n",
       "  26    SATv464SATm523<br>\n",
       "  27    SATv484SATm546<br>\n",
       "  28    SATv434SATm487<br>\n",
       "  29    SATv442SATm486<br>\n",
       "  30    SATv418SATm473<br>\n",
       "  31    SATv480SATm527<br>\n",
       "  32    SATv412SATm470<br>\n",
       "  33    SATv401SATm440<br>\n",
       "  34    SATv505SATm564<br>\n",
       "  35    SATv450SATm499<br>\n",
       "  36    SATv478SATm523<br>\n",
       "  37    SATv439SATm484<br>\n",
       "  38    SATv420SATm463<br>\n",
       "  39    SATv422SATm461<br>\n",
       "  40    SATv397SATm437<br>\n",
       "  41    SATv506SATm555<br>\n",
       "  42    SATv483SATm525<br>\n",
       "  43    SATv413SATm461<br>\n",
       "  44    SATv492SATm539<br>\n",
       "  45    SATv431SATm466<br>\n",
       "  46    SATv425SATm470<br>\n",
       "  47    SATv437SATm486<br>\n",
       "  48    SATv443SATm490<br>\n",
       "  49    SATv476SATm543<br>\n",
       "  50    SATv458SATm519<br>\n",
       "  Name: text, dtype: object, 'colorscale': 'Earth', 'colorbar': {'title': 'thousand dollars'}}]"
      ]
     },
     "execution_count": 6,
     "metadata": {},
     "output_type": "execute_result"
    }
   ],
   "source": [
    "data = [dict(type='choropleth', autocolorscale=False, locations= states['code'], z=states['dollars'], locationmode='USA-states', \n",
    "            text = states['text'], colorscale ='Earth', colorbar = dict(title='thousand dollars'))]\n",
    "\n",
    "data"
   ]
  },
  {
   "cell_type": "markdown",
   "metadata": {},
   "source": [
    "Let's create layout. As you can see it's necessary to be careful with sintax in Plotly"
   ]
  },
  {
   "cell_type": "code",
   "execution_count": 7,
   "metadata": {},
   "outputs": [
    {
     "data": {
      "text/plain": [
       "{'title': 'State Spending on Publice Education in $k per Student',\n",
       " 'geo': {'scope': 'usa',\n",
       "  'projection': {'type': 'albers usa'},\n",
       "  'showlakes': True,\n",
       "  'lakecolor': 'rgb(66,165,245)'}}"
      ]
     },
     "execution_count": 7,
     "metadata": {},
     "output_type": "execute_result"
    }
   ],
   "source": [
    "layout = dict(title='State Spending on Publice Education in $k per Student',\n",
    "             geo= dict(scope='usa', projection=dict(type='albers usa'), \n",
    "                      showlakes = True, lakecolor ='rgb(66,165,245)',),)\n",
    "layout\n",
    "\n",
    "# we created nested dictionary with parameters for layout :)"
   ]
  },
  {
   "cell_type": "markdown",
   "metadata": {},
   "source": [
    "Now it's time to combine data and layout objects..."
   ]
  },
  {
   "cell_type": "code",
   "execution_count": 8,
   "metadata": {},
   "outputs": [
    {
     "name": "stderr",
     "output_type": "stream",
     "text": [
      "C:\\Users\\Nikola\\Anaconda3\\lib\\site-packages\\IPython\\core\\display.py:694: UserWarning:\n",
      "\n",
      "Consider using IPython.display.IFrame instead\n",
      "\n"
     ]
    },
    {
     "data": {
      "text/html": [
       "<iframe id=\"igraph\" scrolling=\"no\" style=\"border:none;\" seamless=\"seamless\" src=\"https://plot.ly/~Nikola1zg/22.embed\" height=\"525px\" width=\"100%\"></iframe>"
      ],
      "text/plain": [
       "<chart_studio.tools.PlotlyDisplay object>"
      ]
     },
     "execution_count": 8,
     "metadata": {},
     "output_type": "execute_result"
    }
   ],
   "source": [
    "fig = dict(data=data, layout=layout)\n",
    "\n",
    "py.iplot(fig, filename='USA-choropleth-map')"
   ]
  },
  {
   "cell_type": "markdown",
   "metadata": {},
   "source": [
    "## Generating point maps "
   ]
  },
  {
   "cell_type": "code",
   "execution_count": 14,
   "metadata": {},
   "outputs": [
    {
     "data": {
      "text/html": [
       "<div>\n",
       "<style scoped>\n",
       "    .dataframe tbody tr th:only-of-type {\n",
       "        vertical-align: middle;\n",
       "    }\n",
       "\n",
       "    .dataframe tbody tr th {\n",
       "        vertical-align: top;\n",
       "    }\n",
       "\n",
       "    .dataframe thead th {\n",
       "        text-align: right;\n",
       "    }\n",
       "</style>\n",
       "<table border=\"1\" class=\"dataframe\">\n",
       "  <thead>\n",
       "    <tr style=\"text-align: right;\">\n",
       "      <th></th>\n",
       "      <th>stn_id</th>\n",
       "      <th>lat</th>\n",
       "      <th>long</th>\n",
       "      <th>elev</th>\n",
       "      <th>code</th>\n",
       "    </tr>\n",
       "  </thead>\n",
       "  <tbody>\n",
       "    <tr>\n",
       "      <th>0</th>\n",
       "      <td>AQW00061705</td>\n",
       "      <td>-14.3306</td>\n",
       "      <td>-170.7136</td>\n",
       "      <td>3.7</td>\n",
       "      <td>AS</td>\n",
       "    </tr>\n",
       "    <tr>\n",
       "      <th>1</th>\n",
       "      <td>CQC00914080</td>\n",
       "      <td>15.2136</td>\n",
       "      <td>145.7497</td>\n",
       "      <td>252.1</td>\n",
       "      <td>MP</td>\n",
       "    </tr>\n",
       "    <tr>\n",
       "      <th>2</th>\n",
       "      <td>CQC00914801</td>\n",
       "      <td>14.1717</td>\n",
       "      <td>145.2428</td>\n",
       "      <td>179.2</td>\n",
       "      <td>MP</td>\n",
       "    </tr>\n",
       "    <tr>\n",
       "      <th>3</th>\n",
       "      <td>CQC00914855</td>\n",
       "      <td>15.1189</td>\n",
       "      <td>145.7294</td>\n",
       "      <td>65.5</td>\n",
       "      <td>MP</td>\n",
       "    </tr>\n",
       "    <tr>\n",
       "      <th>4</th>\n",
       "      <td>CQC00914874</td>\n",
       "      <td>15.0000</td>\n",
       "      <td>145.6333</td>\n",
       "      <td>81.7</td>\n",
       "      <td>MP</td>\n",
       "    </tr>\n",
       "  </tbody>\n",
       "</table>\n",
       "</div>"
      ],
      "text/plain": [
       "        stn_id      lat      long   elev code\n",
       "0  AQW00061705 -14.3306 -170.7136    3.7   AS\n",
       "1  CQC00914080  15.2136  145.7497  252.1   MP\n",
       "2  CQC00914801  14.1717  145.2428  179.2   MP\n",
       "3  CQC00914855  15.1189  145.7294   65.5   MP\n",
       "4  CQC00914874  15.0000  145.6333   81.7   MP"
      ]
     },
     "execution_count": 14,
     "metadata": {},
     "output_type": "execute_result"
    }
   ],
   "source": [
    "address = 'C:/Users/Nikola/Documents/Data Science/LinkedIn/Ex_Files_Python_Data_Science_EssT/Exercise Files/Ch09/09_04/snow_inventory.csv'\n",
    "\n",
    "snow = pd.read_csv(address)\n",
    "\n",
    "snow.columns = ['stn_id', 'lat', 'long', 'elev', 'code']\n",
    "\n",
    "snow.head()"
   ]
  },
  {
   "cell_type": "code",
   "execution_count": 15,
   "metadata": {
    "scrolled": false
   },
   "outputs": [
    {
     "data": {
      "text/html": [
       "<div>\n",
       "<style scoped>\n",
       "    .dataframe tbody tr th:only-of-type {\n",
       "        vertical-align: middle;\n",
       "    }\n",
       "\n",
       "    .dataframe tbody tr th {\n",
       "        vertical-align: top;\n",
       "    }\n",
       "\n",
       "    .dataframe thead th {\n",
       "        text-align: right;\n",
       "    }\n",
       "</style>\n",
       "<table border=\"1\" class=\"dataframe\">\n",
       "  <thead>\n",
       "    <tr style=\"text-align: right;\">\n",
       "      <th></th>\n",
       "      <th>lat</th>\n",
       "      <th>long</th>\n",
       "      <th>elev</th>\n",
       "    </tr>\n",
       "  </thead>\n",
       "  <tbody>\n",
       "    <tr>\n",
       "      <th>count</th>\n",
       "      <td>6376.000000</td>\n",
       "      <td>6376.000000</td>\n",
       "      <td>6376.000000</td>\n",
       "    </tr>\n",
       "    <tr>\n",
       "      <th>mean</th>\n",
       "      <td>38.208176</td>\n",
       "      <td>-95.883707</td>\n",
       "      <td>514.397004</td>\n",
       "    </tr>\n",
       "    <tr>\n",
       "      <th>std</th>\n",
       "      <td>6.919034</td>\n",
       "      <td>26.033140</td>\n",
       "      <td>570.232272</td>\n",
       "    </tr>\n",
       "    <tr>\n",
       "      <th>min</th>\n",
       "      <td>-14.330600</td>\n",
       "      <td>-177.383300</td>\n",
       "      <td>-999.900000</td>\n",
       "    </tr>\n",
       "    <tr>\n",
       "      <th>25%</th>\n",
       "      <td>34.331950</td>\n",
       "      <td>-106.447200</td>\n",
       "      <td>137.200000</td>\n",
       "    </tr>\n",
       "    <tr>\n",
       "      <th>50%</th>\n",
       "      <td>38.675300</td>\n",
       "      <td>-95.631800</td>\n",
       "      <td>294.100000</td>\n",
       "    </tr>\n",
       "    <tr>\n",
       "      <th>75%</th>\n",
       "      <td>42.365200</td>\n",
       "      <td>-85.270575</td>\n",
       "      <td>659.225000</td>\n",
       "    </tr>\n",
       "    <tr>\n",
       "      <th>max</th>\n",
       "      <td>71.283300</td>\n",
       "      <td>174.100000</td>\n",
       "      <td>3442.400000</td>\n",
       "    </tr>\n",
       "  </tbody>\n",
       "</table>\n",
       "</div>"
      ],
      "text/plain": [
       "               lat         long         elev\n",
       "count  6376.000000  6376.000000  6376.000000\n",
       "mean     38.208176   -95.883707   514.397004\n",
       "std       6.919034    26.033140   570.232272\n",
       "min     -14.330600  -177.383300  -999.900000\n",
       "25%      34.331950  -106.447200   137.200000\n",
       "50%      38.675300   -95.631800   294.100000\n",
       "75%      42.365200   -85.270575   659.225000\n",
       "max      71.283300   174.100000  3442.400000"
      ]
     },
     "execution_count": 15,
     "metadata": {},
     "output_type": "execute_result"
    }
   ],
   "source": [
    "snow.describe() \n"
   ]
  },
  {
   "cell_type": "markdown",
   "metadata": {},
   "source": [
    "6376 is too much, let's take smaller sample "
   ]
  },
  {
   "cell_type": "code",
   "execution_count": 19,
   "metadata": {},
   "outputs": [
    {
     "data": {
      "text/html": [
       "<div>\n",
       "<style scoped>\n",
       "    .dataframe tbody tr th:only-of-type {\n",
       "        vertical-align: middle;\n",
       "    }\n",
       "\n",
       "    .dataframe tbody tr th {\n",
       "        vertical-align: top;\n",
       "    }\n",
       "\n",
       "    .dataframe thead th {\n",
       "        text-align: right;\n",
       "    }\n",
       "</style>\n",
       "<table border=\"1\" class=\"dataframe\">\n",
       "  <thead>\n",
       "    <tr style=\"text-align: right;\">\n",
       "      <th></th>\n",
       "      <th>lat</th>\n",
       "      <th>long</th>\n",
       "      <th>elev</th>\n",
       "    </tr>\n",
       "  </thead>\n",
       "  <tbody>\n",
       "    <tr>\n",
       "      <th>count</th>\n",
       "      <td>200.000000</td>\n",
       "      <td>200.000000</td>\n",
       "      <td>200.000000</td>\n",
       "    </tr>\n",
       "    <tr>\n",
       "      <th>mean</th>\n",
       "      <td>37.831641</td>\n",
       "      <td>-94.391841</td>\n",
       "      <td>527.685000</td>\n",
       "    </tr>\n",
       "    <tr>\n",
       "      <th>std</th>\n",
       "      <td>6.193920</td>\n",
       "      <td>22.075591</td>\n",
       "      <td>574.005755</td>\n",
       "    </tr>\n",
       "    <tr>\n",
       "      <th>min</th>\n",
       "      <td>9.483300</td>\n",
       "      <td>-159.404400</td>\n",
       "      <td>1.200000</td>\n",
       "    </tr>\n",
       "    <tr>\n",
       "      <th>25%</th>\n",
       "      <td>34.174350</td>\n",
       "      <td>-103.337250</td>\n",
       "      <td>171.875000</td>\n",
       "    </tr>\n",
       "    <tr>\n",
       "      <th>50%</th>\n",
       "      <td>38.306100</td>\n",
       "      <td>-94.758750</td>\n",
       "      <td>313.900000</td>\n",
       "    </tr>\n",
       "    <tr>\n",
       "      <th>75%</th>\n",
       "      <td>42.137175</td>\n",
       "      <td>-84.903800</td>\n",
       "      <td>655.400000</td>\n",
       "    </tr>\n",
       "    <tr>\n",
       "      <th>max</th>\n",
       "      <td>48.692800</td>\n",
       "      <td>138.083300</td>\n",
       "      <td>3259.500000</td>\n",
       "    </tr>\n",
       "  </tbody>\n",
       "</table>\n",
       "</div>"
      ],
      "text/plain": [
       "              lat        long         elev\n",
       "count  200.000000  200.000000   200.000000\n",
       "mean    37.831641  -94.391841   527.685000\n",
       "std      6.193920   22.075591   574.005755\n",
       "min      9.483300 -159.404400     1.200000\n",
       "25%     34.174350 -103.337250   171.875000\n",
       "50%     38.306100  -94.758750   313.900000\n",
       "75%     42.137175  -84.903800   655.400000\n",
       "max     48.692800  138.083300  3259.500000"
      ]
     },
     "execution_count": 19,
     "metadata": {},
     "output_type": "execute_result"
    }
   ],
   "source": [
    "snow_sample = snow.sample(n=200, random_state=25, axis = 0)\n",
    "\n",
    "snow_sample.describe()"
   ]
  },
  {
   "cell_type": "markdown",
   "metadata": {},
   "source": [
    "Mean didn't change too much, nor std - looks representative "
   ]
  },
  {
   "cell_type": "code",
   "execution_count": 20,
   "metadata": {},
   "outputs": [],
   "source": [
    "data = [dict(type='scattergeo', locationmode='USA-states', lon=snow_sample['long'], lat = snow_sample['lat'],\n",
    "           marker = dict(size=12, autocolorscale=False, colorscale='custom-colorscale',\n",
    "                        color = snow_sample['elev'], colorbar=dict(title='Elevation (m)')) )]"
   ]
  },
  {
   "cell_type": "code",
   "execution_count": 26,
   "metadata": {},
   "outputs": [],
   "source": [
    "layout = dict(title='NOAA Wearher Snowfall Station Elevations', colorbar = True,\n",
    "             geo = dict(scope='USA', projection = dict(type='albers usa'),\n",
    "                       showland=True, landcolor = 'rgb(250,250,250)',\n",
    "                       subunitcolor = 'rgb(217,217,217)', countrycolor ='rgb(217,217,217)',\n",
    "                       countrywidth = 0.5, subunitwidth = 0.5),)"
   ]
  },
  {
   "cell_type": "code",
   "execution_count": 27,
   "metadata": {},
   "outputs": [
    {
     "data": {
      "text/html": [
       "<iframe id=\"igraph\" scrolling=\"no\" style=\"border:none;\" seamless=\"seamless\" src=\"https://plot.ly/~Nikola1zg/24.embed\" height=\"525px\" width=\"100%\"></iframe>"
      ],
      "text/plain": [
       "<chart_studio.tools.PlotlyDisplay object>"
      ]
     },
     "execution_count": 27,
     "metadata": {},
     "output_type": "execute_result"
    }
   ],
   "source": [
    "fig = dict(data=data, layout=layout)\n",
    "\n",
    "py.iplot(fig, validate=False, filename='d3 - elevation')"
   ]
  },
  {
   "cell_type": "code",
   "execution_count": null,
   "metadata": {},
   "outputs": [],
   "source": []
  }
 ],
 "metadata": {
  "kernelspec": {
   "display_name": "Python 3",
   "language": "python",
   "name": "python3"
  },
  "language_info": {
   "codemirror_mode": {
    "name": "ipython",
    "version": 3
   },
   "file_extension": ".py",
   "mimetype": "text/x-python",
   "name": "python",
   "nbconvert_exporter": "python",
   "pygments_lexer": "ipython3",
   "version": "3.7.3"
  }
 },
 "nbformat": 4,
 "nbformat_minor": 2
}
